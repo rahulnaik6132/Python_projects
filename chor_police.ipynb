{
 "cells": [
  {
   "cell_type": "code",
   "execution_count": 26,
   "metadata": {},
   "outputs": [
    {
     "name": "stdout",
     "output_type": "stream",
     "text": [
      "Chor is p1 player\n",
      "Play again for p2 player\n",
      "Play again for p3 player\n",
      "Play again for p4 player\n"
     ]
    }
   ],
   "source": [
    "# CHOR POLICE GAME FOR 4 PLAYERS\n",
    "import random\n",
    "\n",
    "def chor_police():\n",
    "    return random.randint(1,4)\n",
    "\n",
    "players=['p1','p2','p3','p4']\n",
    "random.shuffle(players)\n",
    "\n",
    "chor = players[0] # initialized value\n",
    "\n",
    "for player in players:\n",
    "    if player == chor:\n",
    "        print(f'Chor is {player} player')\n",
    "    else:\n",
    "        print(f'Play again for {player} player')"
   ]
  },
  {
   "cell_type": "code",
   "execution_count": null,
   "metadata": {},
   "outputs": [],
   "source": []
  }
 ],
 "metadata": {
  "kernelspec": {
   "display_name": "Python 3",
   "language": "python",
   "name": "python3"
  },
  "language_info": {
   "codemirror_mode": {
    "name": "ipython",
    "version": 3
   },
   "file_extension": ".py",
   "mimetype": "text/x-python",
   "name": "python",
   "nbconvert_exporter": "python",
   "pygments_lexer": "ipython3",
   "version": "3.13.0"
  }
 },
 "nbformat": 4,
 "nbformat_minor": 2
}
